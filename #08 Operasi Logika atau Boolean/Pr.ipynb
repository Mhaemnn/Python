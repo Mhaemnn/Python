{
 "cells": [
  {
   "cell_type": "code",
   "execution_count": 5,
   "metadata": {},
   "outputs": [
    {
     "name": "stdout",
     "output_type": "stream",
     "text": [
      "hasil True\n",
      "hasil False\n"
     ]
    }
   ],
   "source": [
    "# ------0++++++5------8+++++11--------\n",
    "user = float(input(\"Masukan angka\"))\n",
    "\n",
    "x = (user > 0)\n",
    "y = (user < 5)\n",
    "z = (user > 8)\n",
    "w = (user < 11)\n",
    "\n",
    "print(\"hasil\",x and y or z and w)\n",
    "\n",
    "\n",
    "# ++++++0------5++++++8-----11++++++++\n",
    "user = float(input(\"Masukan angka\"))\n",
    "\n",
    "x = (user < 0)\n",
    "y = (user > 5)\n",
    "z = (user < 8)\n",
    "w = (user > 11)\n",
    "\n",
    "print(\"hasil\",x and y or z and w)"
   ]
  },
  {
   "cell_type": "code",
   "execution_count": null,
   "metadata": {},
   "outputs": [],
   "source": []
  }
 ],
 "metadata": {
  "interpreter": {
   "hash": "916dbcbb3f70747c44a77c7bcd40155683ae19c65e1c03b4aa3499c5328201f1"
  },
  "kernelspec": {
   "display_name": "Python 3.8.10 64-bit",
   "language": "python",
   "name": "python3"
  },
  "language_info": {
   "codemirror_mode": {
    "name": "ipython",
    "version": 3
   },
   "file_extension": ".py",
   "mimetype": "text/x-python",
   "name": "python",
   "nbconvert_exporter": "python",
   "pygments_lexer": "ipython3",
   "version": "3.8.10"
  },
  "orig_nbformat": 4
 },
 "nbformat": 4,
 "nbformat_minor": 2
}
