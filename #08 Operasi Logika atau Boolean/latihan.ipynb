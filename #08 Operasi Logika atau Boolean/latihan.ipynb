{
 "cells": [
  {
   "cell_type": "code",
   "execution_count": 6,
   "metadata": {},
   "outputs": [
    {
     "name": "stdout",
     "output_type": "stream",
     "text": [
      "Kurang dari 3 =  False\n",
      "Lebih dari 10 =  True\n",
      "Angka yang anda masukan:  True\n",
      "======================================\n",
      "Lebih dari 3   =  True\n",
      "Kurang dari 10 =  True\n",
      "Angka yang anda masukan:  True\n"
     ]
    }
   ],
   "source": [
    "\n",
    "\n",
    "\n",
    "\n",
    "# +++++++++3----------10+++++++++\n",
    "\n",
    "user = float(input(\"Masukan angka yang bernilai \"))\n",
    "\n",
    "# +++++++++3------------\n",
    "# Memeriksa angka lebih dari 3\n",
    "kurangDari = (user > 3)\n",
    "print(\"Kurang dari 3 = \", kurangDari)\n",
    "\n",
    "\n",
    "# --------------10++++++++\n",
    "# Memeriksa angka lebih dari 10\n",
    "lebihDari = (user < 10)\n",
    "print(\"Lebih dari 10 = \", lebihDari)\n",
    "\n",
    "hasil = kurangDari or lebihDari\n",
    "print(\"Angka yang anda masukan: \", hasil)\n",
    "\n",
    "\n",
    "# --------3+++++++++++10--------\n",
    "# Kasus irisan\n",
    "print(\"======================================\")\n",
    "user = float(input(\"Masukan angka yang bernilai \"))\n",
    "\n",
    "# -----3++++++++++\n",
    "# Memeriksa lebih dari\n",
    "lebihDari = user > 3\n",
    "print(\"Lebih dari 3   = \", lebihDari)\n",
    "\n",
    "#+++++++++10--------------\n",
    "# Memriksa kurang dari 10\n",
    "kurangDari = user < 10\n",
    "print(\"Kurang dari 10 = \", kurangDari)\n",
    "\n",
    "hasil = lebihDari and kurangDari\n",
    "print(\"Angka yang anda masukan: \", hasil)\n",
    "\n"
   ]
  },
  {
   "cell_type": "code",
   "execution_count": null,
   "metadata": {},
   "outputs": [],
   "source": []
  }
 ],
 "metadata": {
  "interpreter": {
   "hash": "31f2aee4e71d21fbe5cf8b01ff0e069b9275f58929596ceb00d14d90e3e16cd6"
  },
  "kernelspec": {
   "display_name": "Python 3.8.10 64-bit",
   "language": "python",
   "name": "python3"
  },
  "language_info": {
   "codemirror_mode": {
    "name": "ipython",
    "version": 3
   },
   "file_extension": ".py",
   "mimetype": "text/x-python",
   "name": "python",
   "nbconvert_exporter": "python",
   "pygments_lexer": "ipython3",
   "version": "3.8.10"
  },
  "orig_nbformat": 4
 },
 "nbformat": 4,
 "nbformat_minor": 2
}
